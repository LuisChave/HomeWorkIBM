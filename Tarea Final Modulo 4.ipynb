{
    "cells": [
        {
            "metadata": {
                "collapsed": true
            },
            "cell_type": "markdown",
            "source": "## This is a task for Final Module 4"
        },
        {
            "metadata": {},
            "cell_type": "markdown",
            "source": "This task has 13 activities about use notebook on Jupyter"
        },
        {
            "metadata": {},
            "cell_type": "markdown",
            "source": "_Data Science Languages_\n- Python\n- SQL\n- R\n- Julia\n- JavaScript\n- Scala\n- Java\n- Go"
        },
        {
            "metadata": {},
            "cell_type": "markdown",
            "source": "_Data Science Libraries_\n- NumPy\n- Keras\n- Pandas\n- PyTorch\n- SciPy\n- Scikit-Learn\n- TensorFlow\n- Matplotlib\n- Seaborn"
        },
        {
            "metadata": {},
            "cell_type": "markdown",
            "source": "|Data Science Tools|\n|------------------|\n|Apache Hadoop|\n|Tableau|\n|TensorFlow|\n|BigML|\n|Knime|\n|RapidMiner|\n|Excel|\n|Apache Flink|\n|PowerBI|\n|Google Analytics|\n|Python|\n|R (RStudio)|\n|Jupyter|\n|MATLAB|"
        },
        {
            "metadata": {},
            "cell_type": "markdown",
            "source": "This example multiply and add 3 numbers"
        },
        {
            "metadata": {},
            "cell_type": "code",
            "source": "a = (3 * 4) + 5\na",
            "execution_count": 2,
            "outputs": [
                {
                    "output_type": "execute_result",
                    "execution_count": 2,
                    "data": {
                        "text/plain": "17"
                    },
                    "metadata": {}
                }
            ]
        },
        {
            "metadata": {},
            "cell_type": "code",
            "source": "minutes = 125\nhours = minutes / 60\nhours",
            "execution_count": 3,
            "outputs": [
                {
                    "output_type": "execute_result",
                    "execution_count": 3,
                    "data": {
                        "text/plain": "2.0833333333333335"
                    },
                    "metadata": {}
                }
            ]
        },
        {
            "metadata": {},
            "cell_type": "markdown",
            "source": "In this notebook we:\n- Made a title markdown\n- Made a simple text markdown\n- Used lists\n- Used tables\n- Made a simple aritmetich operation"
        },
        {
            "metadata": {},
            "cell_type": "markdown",
            "source": "## Author\n**_Luis Chaverra_**"
        },
        {
            "metadata": {},
            "cell_type": "code",
            "source": "",
            "execution_count": null,
            "outputs": []
        }
    ],
    "metadata": {
        "kernelspec": {
            "name": "python3",
            "display_name": "Python 3.10",
            "language": "python"
        },
        "language_info": {
            "name": "python",
            "version": "3.10.9",
            "mimetype": "text/x-python",
            "codemirror_mode": {
                "name": "ipython",
                "version": 3
            },
            "pygments_lexer": "ipython3",
            "nbconvert_exporter": "python",
            "file_extension": ".py"
        }
    },
    "nbformat": 4,
    "nbformat_minor": 1
}